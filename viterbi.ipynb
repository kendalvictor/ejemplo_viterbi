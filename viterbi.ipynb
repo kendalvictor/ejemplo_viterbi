{
 "cells": [
  {
   "cell_type": "code",
   "execution_count": 5,
   "metadata": {
    "collapsed": false
   },
   "outputs": [],
   "source": [
    "import numpy as np\n",
    "condition_initial = np.array([\n",
    "    [0.25],\n",
    "    [0.75]\n",
    "])\n",
    "transicion = np.array([\n",
    "    [0.7, 0.3],\n",
    "    [0.1, 0.9]\n",
    "])\n",
    "emision = np.array([\n",
    "    [0.9, 0.1],\n",
    "    [0.2, 0.8]\n",
    "])\n",
    "\n",
    "class Viterbi(object):\n",
    "    def __init__(self, condition_initial, transicion, emision):\n",
    "        self.N = condition_initial.shape[0]\n",
    "        self.initialProb = condition_initial.copy()\n",
    "        self.transProb = transicion.copy()\n",
    "        self.obsProb = emision.copy()\n",
    "        \n",
    "        #Validaciones en las dimensiones de datos de entrada\n",
    "        assert self.initialProb.shape == (self.N, 1)\n",
    "        assert self.transProb.shape == (self.N, self.N)\n",
    "        assert self.obsProb.shape[0] == self.N\n",
    " \n",
    "    def Obs(self, obs):\n",
    "        return self.obsProb[:, obs, None]\n",
    " \n",
    "    def run(self, obs):\n",
    "        trellis = np.zeros((self.N, len(obs)))\n",
    "        backpt = np.ones((self.N, len(obs)), 'int32') * -1\n",
    " \n",
    "        trellis[:, 0] = np.squeeze(self.initialProb * self.Obs(obs[0]))\n",
    "         \n",
    "        for t in range(1, len(obs)):\n",
    "            trellis[:, t] = (trellis[:, t-1, None].dot(self.Obs(obs[t]).T) * self.transProb).max(0)\n",
    "            print(\"trellis: \", trellis[:, t])\n",
    "            backpt[:, t] = (np.tile(trellis[:, t-1, None], [1, self.N]) * self.transProb).argmax(0)\n",
    "        \n",
    "        tokens = [trellis[:, -1].argmax()]\n",
    "        for i in range(len(obs)-1, 0, -1):\n",
    "            tokens.append(backpt[tokens[-1], i])\n",
    "        return tokens[::-1]\n",
    "    \n",
    "algoritmo = Viterbi(condition_initial, transicion, emision)"
   ]
  },
  {
   "cell_type": "code",
   "execution_count": 6,
   "metadata": {
    "collapsed": true
   },
   "outputs": [
    {
     "name": "stdout",
     "output_type": "stream",
     "text": [
      "#############TESTEO DE ALGORITMO #################\n",
      "\n",
      " Durante 5 días consecutivos se vio un paraguas\n",
      "trellis:  [0.006 0.432]\n",
      "trellis:  [0.00432 0.31104]\n",
      "trellis:  [0.0031104 0.2239488]\n",
      "trellis:  [0.00223949 0.16124314]\n",
      "Estados mas probables [1, 1, 1, 1, 1]\n",
      "\n",
      " Durante 5 días consecutivos NO se vio un paraguas\n",
      "trellis:  [0.14175 0.027  ]\n",
      "trellis:  [0.0893025 0.008505 ]\n",
      "trellis:  [0.05626057 0.00535815]\n",
      "trellis:  [0.03544416 0.00337563]\n",
      "Estados mas probables [0, 0, 0, 0, 0]\n",
      "\n",
      " Solo el Lunes Martes y Jueves se vio paraguas\n",
      "trellis:  [0.006 0.432]\n",
      "trellis:  [0.03888 0.07776]\n",
      "trellis:  [0.0027216 0.0559872]\n",
      "trellis:  [0.00503885 0.0100777 ]\n",
      "Estados mas probables [1, 1, 1, 1, 1]\n",
      "\n",
      " Solo Miercoles y Viernes se vio paraguas\n",
      "trellis:  [0.14175 0.027  ]\n",
      "trellis:  [0.0099225 0.03402  ]\n",
      "trellis:  [0.00625117 0.0061236 ]\n",
      "trellis:  [0.00043758 0.00440899]\n",
      "Estados mas probables [0, 0, 1, 1, 1]\n",
      "\n",
      " Solo el Jueves se vio paraguas\n",
      "trellis:  [0.14175 0.027  ]\n",
      "trellis:  [0.0893025 0.008505 ]\n",
      "trellis:  [0.00625117 0.0214326 ]\n",
      "trellis:  [0.00393824 0.00385787]\n",
      "Estados mas probables [0, 0, 0, 0, 0]\n"
     ]
    }
   ],
   "source": [
    "print(\"#############TESTEO DE ALGORITMO #################\")\n",
    "print(\"\\n Durante 5 días consecutivos se vio un paraguas\")\n",
    "print(\"Estados mas probables\", algoritmo.run([1, 1, 1, 1, 1]))\n",
    "\n",
    "print(\"\\n Durante 5 días consecutivos NO se vio un paraguas\")\n",
    "print(\"Estados mas probables\", algoritmo.run([0, 0, 0, 0, 0]))\n",
    "\n",
    "print(\"\\n Solo el Lunes Martes y Jueves se vio paraguas\")\n",
    "print(\"Estados mas probables\", algoritmo.run([1, 1, 0, 1, 0]))\n",
    "\n",
    "print(\"\\n Solo Miercoles y Viernes se vio paraguas\")\n",
    "print(\"Estados mas probables\", algoritmo.run([0, 0, 1, 0, 1]))\n",
    "\n",
    "print(\"\\n Solo el Jueves se vio paraguas\")\n",
    "print(\"Estados mas probables\", algoritmo.run([0, 0, 0, 1, 0]))"
   ]
  },
  {
   "cell_type": "code",
   "execution_count": null,
   "metadata": {},
   "outputs": [],
   "source": []
  }
 ],
 "metadata": {
  "kernelspec": {
   "display_name": "Python 3",
   "language": "python",
   "name": "python3"
  },
  "language_info": {
   "codemirror_mode": {
    "name": "ipython",
    "version": 3
   },
   "file_extension": ".py",
   "mimetype": "text/x-python",
   "name": "python",
   "nbconvert_exporter": "python",
   "pygments_lexer": "ipython3",
   "version": "3.6.4"
  }
 },
 "nbformat": 4,
 "nbformat_minor": 2
}
